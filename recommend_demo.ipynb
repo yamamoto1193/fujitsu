{
 "cells": [
  {
   "cell_type": "code",
   "execution_count": 94,
   "metadata": {},
   "outputs": [],
   "source": [
    "import numpy as np\n",
    "import pandas as pd\n",
    "\n",
    "df = pd.read_csv('data/teacher_data.csv')\n",
    "review = pd.read_csv('data/pred_rate_normal.csv', index_col=0)\n",
    "review = review.values.tolist()"
   ]
  },
  {
   "cell_type": "code",
   "execution_count": 95,
   "metadata": {},
   "outputs": [],
   "source": [
    "# 検索\n",
    "def search(df, review, index, start, stop, cost):\n",
    "    df = df[df['start'] <= start]\n",
    "    df = df[stop <= df['stop']]\n",
    "    df = df[df['cost'] <= cost]\n",
    "    num = df['ID']\n",
    "    \n",
    "    score = review[index-1]\n",
    "    teachers = []\n",
    "    for i in num:\n",
    "        teachers.append([score[i-1], i])\n",
    "    teachers = sorted(teachers, key=lambda x: x[0], reverse=True)\n",
    "    return teachers\n",
    "\n",
    "# 表示\n",
    "def show(df, teachers):\n",
    "    num = min(3, len(teachers))\n",
    "    for i in range(num):\n",
    "        index = teachers[i][1]\n",
    "        print('先生ID ', teachers[i][1])\n",
    "        print('予測スコア {:.2f}/10.00'.format(teachers[i][0]))\n",
    "        print('勤務可能時間 {0}:00-{1}:00'.format(int(df[index-1:index]['start']), int(df[index-1:index]['stop'])))\n",
    "        print('値段 {0}円/時間'.format(int(df[index-1:index]['cost'])))\n",
    "        print('\\n')\n",
    "    return None"
   ]
  },
  {
   "cell_type": "markdown",
   "metadata": {},
   "source": [
    "## データ入力→レコメンド"
   ]
  },
  {
   "cell_type": "code",
   "execution_count": 108,
   "metadata": {},
   "outputs": [
    {
     "name": "stdout",
     "output_type": "stream",
     "text": [
      "生徒ID 56\n",
      "開始時間 13\n",
      "終了時間 15\n",
      "値段 1200\n",
      "\n",
      "\n",
      "★おすすめの先生★\n",
      "\n",
      "先生ID  758\n",
      "予測スコア 9.52/10.00\n",
      "勤務可能時間 10:00-15:00\n",
      "値段 1000円/時間\n",
      "\n",
      "\n",
      "先生ID  50\n",
      "予測スコア 8.76/10.00\n",
      "勤務可能時間 12:00-15:00\n",
      "値段 1200円/時間\n",
      "\n",
      "\n",
      "先生ID  295\n",
      "予測スコア 8.10/10.00\n",
      "勤務可能時間 11:00-16:00\n",
      "値段 1000円/時間\n",
      "\n",
      "\n"
     ]
    }
   ],
   "source": [
    "# 生徒IDは1-100, 時間は9:00-17:00(1h刻み, 1-2時間を想定), 値段は1000-2000\n",
    "# 5\n",
    "index = int(input('生徒ID '))\n",
    "start = int(input('開始時間 ').split(':')[0])\n",
    "stop = int(input('終了時間 ').split(':')[0])\n",
    "cost = int(input('値段 '))\n",
    "print('\\n')\n",
    "\n",
    "print('★おすすめの先生★\\n')\n",
    "teachers = search(df, review, index, start, stop, cost)\n",
    "show(df, teachers)"
   ]
  }
 ],
 "metadata": {
  "kernelspec": {
   "display_name": "Python 3",
   "language": "python",
   "name": "python3"
  },
  "language_info": {
   "codemirror_mode": {
    "name": "ipython",
    "version": 3
   },
   "file_extension": ".py",
   "mimetype": "text/x-python",
   "name": "python",
   "nbconvert_exporter": "python",
   "pygments_lexer": "ipython3",
   "version": "3.7.9"
  }
 },
 "nbformat": 4,
 "nbformat_minor": 2
}
