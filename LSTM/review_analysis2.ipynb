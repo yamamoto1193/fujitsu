{
 "cells": [
  {
   "cell_type": "code",
   "execution_count": null,
   "metadata": {
    "colab": {
     "base_uri": "https://localhost:8080/"
    },
    "executionInfo": {
     "elapsed": 9120,
     "status": "ok",
     "timestamp": 1613700214460,
     "user": {
      "displayName": "山本貴巳",
      "photoUrl": "",
      "userId": "07849016954525770703"
     },
     "user_tz": -540
    },
    "id": "PlO7wAreBnpB",
    "outputId": "85fad626-73e1-4256-d060-c516ce4ed880"
   },
   "outputs": [],
   "source": [
    "!pip install googletrans==4.0.0-rc1\n",
    "!pip install gensim"
   ]
  },
  {
   "cell_type": "code",
   "execution_count": null,
   "metadata": {
    "executionInfo": {
     "elapsed": 2079,
     "status": "ok",
     "timestamp": 1613702180261,
     "user": {
      "displayName": "山本貴巳",
      "photoUrl": "",
      "userId": "07849016954525770703"
     },
     "user_tz": -540
    },
    "id": "b-UmQPsDGnp3"
   },
   "outputs": [],
   "source": [
    "from tensorflow.keras.models import load_model\n",
    "lstm = load_model('data/LSTM_model.h5')"
   ]
  },
  {
   "cell_type": "code",
   "execution_count": null,
   "metadata": {
    "executionInfo": {
     "elapsed": 399,
     "status": "ok",
     "timestamp": 1613701364625,
     "user": {
      "displayName": "山本貴巳",
      "photoUrl": "",
      "userId": "07849016954525770703"
     },
     "user_tz": -540
    },
    "id": "NOlelnhgBwrs"
   },
   "outputs": [],
   "source": [
    "import re\n",
    "from googletrans import Translator\n",
    "\n",
    "def trans(review):\n",
    "    translator = Translator()\n",
    "    text = translator.translate(text=review, src=\"ja\", dest=\"en\").text\n",
    "    text = re.sub(r\"[,.!?]\", \" \", text)\n",
    "    text = text.lower()\n",
    "    return [text]"
   ]
  },
  {
   "cell_type": "code",
   "execution_count": null,
   "metadata": {
    "executionInfo": {
     "elapsed": 117147,
     "status": "ok",
     "timestamp": 1613701547433,
     "user": {
      "displayName": "山本貴巳",
      "photoUrl": "",
      "userId": "07849016954525770703"
     },
     "user_tz": -540
    },
    "id": "ofwSeaPGDQpD"
   },
   "outputs": [],
   "source": [
    "# word2vecモデル読み込み\n",
    "import gensim\n",
    "wv = gensim.models.KeyedVectors.load_word2vec_format('data/GoogleNews-vectors-negative300.bin.gz', binary=True)\n",
    "\n",
    "length = 100\n",
    "size = 1\n",
    "\n",
    "# word2vecでembedding\n",
    "def embedding(seq, wv, length, size):\n",
    "    res = np.zeros((size, length, 300))\n",
    "    for i in range(size):\n",
    "        words = seq[i].split(' ')\n",
    "        for j in range(len(words)):\n",
    "            try:\n",
    "                res[i, j, :] = wv[words[j]]\n",
    "            except:\n",
    "                pass\n",
    "    return res"
   ]
  },
  {
   "cell_type": "code",
   "execution_count": null,
   "metadata": {
    "executionInfo": {
     "elapsed": 424,
     "status": "ok",
     "timestamp": 1613703261181,
     "user": {
      "displayName": "山本貴巳",
      "photoUrl": "",
      "userId": "07849016954525770703"
     },
     "user_tz": -540
    },
    "id": "JwKWO17XKr9T"
   },
   "outputs": [],
   "source": [
    "def calc(star, review):\n",
    "    review_en = trans(review)\n",
    "    embed = embedding(review_en, wv, length, size)\n",
    "    pred = lstm.predict(embed)[0][0]\n",
    "    score = star + (pred-0.5)*5*max(0.5, min(1, len(review)/30))\n",
    "    score = np.round(score, 2)\n",
    "    score = max(0, score)\n",
    "    return score"
   ]
  },
  {
   "cell_type": "code",
   "execution_count": null,
   "metadata": {
    "colab": {
     "base_uri": "https://localhost:8080/"
    },
    "executionInfo": {
     "elapsed": 14846,
     "status": "ok",
     "timestamp": 1613703365039,
     "user": {
      "displayName": "山本貴巳",
      "photoUrl": "",
      "userId": "07849016954525770703"
     },
     "user_tz": -540
    },
    "id": "LfYspjsWNlxA",
    "outputId": "eafda078-b225-4313-a19c-68e1a3c3e526"
   },
   "outputs": [],
   "source": [
    "star = int(input('★の数：'))\n",
    "review = input('レビュー：').rstrip()\n",
    "score = calc(star, review)\n",
    "print('予測スコア：', score)"
   ]
  }
 ],
 "metadata": {
  "colab": {
   "authorship_tag": "ABX9TyM4ePmMQtoFgbQNSOLHyUZw",
   "collapsed_sections": [],
   "mount_file_id": "1N7sUA5MlPigkKxHyuqi6ZKBzGgEwHoH7",
   "name": "Untitled",
   "provenance": []
  },
  "kernelspec": {
   "display_name": "Python 3",
   "language": "python",
   "name": "python3"
  },
  "language_info": {
   "codemirror_mode": {
    "name": "ipython",
    "version": 3
   },
   "file_extension": ".py",
   "mimetype": "text/x-python",
   "name": "python",
   "nbconvert_exporter": "python",
   "pygments_lexer": "ipython3",
   "version": "3.8.5"
  }
 },
 "nbformat": 4,
 "nbformat_minor": 1
}
