{
 "cells": [
  {
   "cell_type": "code",
   "execution_count": null,
   "metadata": {
    "colab": {
     "base_uri": "https://localhost:8080/"
    },
    "executionInfo": {
     "elapsed": 11823,
     "status": "ok",
     "timestamp": 1613639535762,
     "user": {
      "displayName": "山本貴巳",
      "photoUrl": "",
      "userId": "07849016954525770703"
     },
     "user_tz": -540
    },
    "id": "Ztt4K1eOZ0dg",
    "outputId": "6520c331-3cb3-4467-a91e-0527d436a8f2"
   },
   "outputs": [],
   "source": [
    "!pip install gensim"
   ]
  },
  {
   "cell_type": "code",
   "execution_count": null,
   "metadata": {
    "colab": {
     "base_uri": "https://localhost:8080/"
    },
    "executionInfo": {
     "elapsed": 7735,
     "status": "ok",
     "timestamp": 1613639895950,
     "user": {
      "displayName": "山本貴巳",
      "photoUrl": "",
      "userId": "07849016954525770703"
     },
     "user_tz": -540
    },
    "id": "ZqCUumSCbaPI",
    "outputId": "ff7c9502-f9ba-4426-cbfa-e1399f37642f"
   },
   "outputs": [],
   "source": [
    "from keras.datasets import imdb\n",
    "\n",
    "(x_train, y_train), (x_test, y_test) = imdb.load_data(path=\"imdb.npz\",\n",
    "                                                      num_words=None,\n",
    "                                                      skip_top=0,\n",
    "                                                      maxlen=None,\n",
    "                                                      seed=27,\n",
    "                                                      start_char=1,\n",
    "                                                      oov_char=2,\n",
    "                                                      index_from=3)"
   ]
  },
  {
   "cell_type": "code",
   "execution_count": null,
   "metadata": {
    "executionInfo": {
     "elapsed": 4993,
     "status": "ok",
     "timestamp": 1613645034137,
     "user": {
      "displayName": "山本貴巳",
      "photoUrl": "",
      "userId": "07849016954525770703"
     },
     "user_tz": -540
    },
    "id": "_P81fNUvcqEG"
   },
   "outputs": [],
   "source": [
    "# データ整形\n",
    "def delete(arr):\n",
    "    res = []\n",
    "    for l in arr:\n",
    "        temp = []\n",
    "        for num in l:\n",
    "            if num == 1 or num == 2:\n",
    "                continue\n",
    "            temp.append(num)\n",
    "        res.append(temp)\n",
    "    return res\n",
    "\n",
    "def decode_review(data):\n",
    "    word_index = imdb.get_word_index()\n",
    "    reversed_word_index = dict([value, key] for (key, value) in word_index.items())\n",
    "    res = []\n",
    "    for l in data:\n",
    "        decoded_review = ' '.join([reversed_word_index.get(i-3, '?') for i in l])\n",
    "        res.append(decoded_review)\n",
    "    return res\n",
    "\n",
    "X_train, X_test = delete(x_train), delete(x_test)\n",
    "seq_train, seq_test = decode_review(X_train), decode_review(X_test)"
   ]
  },
  {
   "cell_type": "code",
   "execution_count": null,
   "metadata": {
    "executionInfo": {
     "elapsed": 2226,
     "status": "ok",
     "timestamp": 1613698034312,
     "user": {
      "displayName": "山本貴巳",
      "photoUrl": "",
      "userId": "07849016954525770703"
     },
     "user_tz": -540
    },
    "id": "iYIDhtqg4EB_"
   },
   "outputs": [],
   "source": [
    "import json\n",
    "\n",
    "with open('data/seq_train.json', 'r') as f:\n",
    "    seq_train = json.load(f)\n",
    "with open('data/seq_test.json', 'r') as f:\n",
    "    seq_test = json.load(f)\n",
    "with open('data/y_train.json', 'r') as f:\n",
    "    y_train = json.load(f)\n",
    "with open('data/y_train.json', 'r') as f:\n",
    "    y_test = json.load(f)"
   ]
  },
  {
   "cell_type": "code",
   "execution_count": null,
   "metadata": {
    "executionInfo": {
     "elapsed": 91805,
     "status": "ok",
     "timestamp": 1613698127650,
     "user": {
      "displayName": "山本貴巳",
      "photoUrl": "",
      "userId": "07849016954525770703"
     },
     "user_tz": -540
    },
    "id": "riCRFSgeY6pC"
   },
   "outputs": [],
   "source": [
    "# word2vecモデル読み込み\n",
    "import gensim\n",
    "\n",
    "model = gensim.models.KeyedVectors.load_word2vec_format('data/GoogleNews-vectors-negative300.bin.gz', binary=True)"
   ]
  },
  {
   "cell_type": "code",
   "execution_count": null,
   "metadata": {
    "executionInfo": {
     "elapsed": 497,
     "status": "ok",
     "timestamp": 1613698183408,
     "user": {
      "displayName": "山本貴巳",
      "photoUrl": "",
      "userId": "07849016954525770703"
     },
     "user_tz": -540
    },
    "id": "gzBfe0o-wwnN"
   },
   "outputs": [],
   "source": [
    "import numpy as np\n",
    "length = 100\n",
    "size = 10000\n",
    "\n",
    "# word2vecでembedding\n",
    "def embedding(seq, model, length, size):\n",
    "    res = np.zeros((size, length, 300))\n",
    "    for i in range(size):\n",
    "        words = seq[i].split(' ')\n",
    "        for j in range(len(words)):\n",
    "            try:\n",
    "                res[i, j, :] = model[words[j]]\n",
    "            except:\n",
    "                pass\n",
    "    return res\n",
    "\n",
    "def label(y, size):\n",
    "    res = np.zeros(size)\n",
    "    for i in range(size):\n",
    "        res[i] = y[i]\n",
    "    return res\n",
    "\n",
    "embed_train = embedding(seq_train, model, length, size)\n",
    "embed_test = embedding(seq_test, model, length, size)\n",
    "label_train = label(y_train, size)\n",
    "label_test = label(y_test, size)"
   ]
  },
  {
   "cell_type": "code",
   "execution_count": null,
   "metadata": {
    "executionInfo": {
     "elapsed": 139685,
     "status": "ok",
     "timestamp": 1613698735763,
     "user": {
      "displayName": "山本貴巳",
      "photoUrl": "",
      "userId": "07849016954525770703"
     },
     "user_tz": -540
    },
    "id": "kjO0WpCfv4lW"
   },
   "outputs": [],
   "source": [
    "embed_train = np.load('data/embed_train.npy')\n",
    "embed_test = np.load('data/embed_test.npy')\n",
    "label_train = np.load('data/label_train.npy')\n",
    "label_test = np.load('data/label_test.npy')"
   ]
  },
  {
   "cell_type": "code",
   "execution_count": null,
   "metadata": {
    "colab": {
     "base_uri": "https://localhost:8080/"
    },
    "executionInfo": {
     "elapsed": 36774,
     "status": "ok",
     "timestamp": 1613701992821,
     "user": {
      "displayName": "山本貴巳",
      "photoUrl": "",
      "userId": "07849016954525770703"
     },
     "user_tz": -540
    },
    "id": "xetTzubSM3Hy",
    "outputId": "7f22369f-95a8-49c5-d2ca-848cee142396"
   },
   "outputs": [],
   "source": [
    "# モデル作成、学習\n",
    "from tensorflow.keras.models import Sequential\n",
    "from tensorflow.keras.layers import Dense, Activation, LSTM, Dropout\n",
    "from tensorflow.keras.optimizers import Adam\n",
    "from tensorflow.keras.callbacks import EarlyStopping\n",
    "\n",
    "timesteps = 100\n",
    "data_dim = 300\n",
    "\n",
    "model = Sequential()\n",
    "model.add(LSTM(128, input_shape=(timesteps, data_dim)))\n",
    "model.add(Dense(32, activation='relu'))\n",
    "model.add(Dropout(0.5))\n",
    "model.add(Dense(16, activation='relu'))\n",
    "model.add(Dropout(0.5))\n",
    "model.add(Dense(1, activation='sigmoid'))\n",
    "\n",
    "model.compile(optimizer='adam',\n",
    "              loss='binary_crossentropy',\n",
    "              metrics=['accuracy'])\n",
    "\n",
    "callback = EarlyStopping(monitor='val_loss', patience=5)\n",
    "model.fit(embed_train, label_train, epochs=100,\n",
    "          validation_split=0.1, verbose=1, callbacks=[callback])"
   ]
  },
  {
   "cell_type": "code",
   "execution_count": null,
   "metadata": {
    "executionInfo": {
     "elapsed": 485,
     "status": "ok",
     "timestamp": 1613702031420,
     "user": {
      "displayName": "山本貴巳",
      "photoUrl": "",
      "userId": "07849016954525770703"
     },
     "user_tz": -540
    },
    "id": "yRk8QzXHAMHQ"
   },
   "outputs": [],
   "source": [
    "model.save('data/LSTM_model.h5')"
   ]
  },
  {
   "cell_type": "code",
   "execution_count": null,
   "metadata": {
    "colab": {
     "base_uri": "https://localhost:8080/"
    },
    "executionInfo": {
     "elapsed": 2532,
     "status": "ok",
     "timestamp": 1613699929602,
     "user": {
      "displayName": "山本貴巳",
      "photoUrl": "",
      "userId": "07849016954525770703"
     },
     "user_tz": -540
    },
    "id": "39nK0le1AlVu",
    "outputId": "08975f6b-12b0-4f72-99ac-515f2c9615b4"
   },
   "outputs": [],
   "source": [
    "from tensorflow.keras.models import load_model\n",
    "n_model = load_model('data/LSTM_model.h5')\n",
    "n_model.summary()"
   ]
  }
 ],
 "metadata": {
  "accelerator": "GPU",
  "colab": {
   "authorship_tag": "ABX9TyPNhvnqpenWU1boD7p7IpDJ",
   "collapsed_sections": [],
   "mount_file_id": "13ZQJnYt1EM5VpK5xovyFn7jlQqvHUGMR",
   "name": "DNN.ipynb",
   "provenance": []
  },
  "kernelspec": {
   "display_name": "Python 3",
   "language": "python",
   "name": "python3"
  },
  "language_info": {
   "codemirror_mode": {
    "name": "ipython",
    "version": 3
   },
   "file_extension": ".py",
   "mimetype": "text/x-python",
   "name": "python",
   "nbconvert_exporter": "python",
   "pygments_lexer": "ipython3",
   "version": "3.8.5"
  }
 },
 "nbformat": 4,
 "nbformat_minor": 1
}
