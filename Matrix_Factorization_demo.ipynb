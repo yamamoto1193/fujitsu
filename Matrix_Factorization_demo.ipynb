{
 "cells": [
  {
   "cell_type": "markdown",
   "metadata": {},
   "source": [
    "## データセット作成"
   ]
  },
  {
   "cell_type": "code",
   "execution_count": 1,
   "metadata": {},
   "outputs": [],
   "source": [
    "import numpy as np\n",
    "import pandas as pd\n",
    "\n",
    "def make_data(arr):\n",
    "    arr = np.where(arr<0, 0, arr)\n",
    "    arr = np.where(arr>10, 10, arr)\n",
    "    res = np.zeros((arr.shape[0], arr.shape[1]))\n",
    "    for i in range(arr.shape[0]):\n",
    "        rand = np.random.randint(10, 31)\n",
    "        rand_index = np.random.choice(arr.shape[1], rand, replace=False)\n",
    "        for j in rand_index:\n",
    "            res[i][j] = arr[i][j]\n",
    "    return res\n",
    "\n",
    "# 正規分布(平均=5, 分散=2)\n",
    "rate_normal = np.round(np.random.normal(5, 2, (100, 1000)))\n",
    "rate_normal = make_data(rate_normal)"
   ]
  },
  {
   "cell_type": "markdown",
   "metadata": {},
   "source": [
    "## 評価予測"
   ]
  },
  {
   "cell_type": "code",
   "execution_count": 2,
   "metadata": {
    "tags": []
   },
   "outputs": [
    {
     "name": "stdout",
     "output_type": "stream",
     "text": [
      "Step0  error : 19456.898212298893\n",
      "Step10  error : 9985.105908030713\n",
      "Step20  error : 6757.651822472697\n",
      "Step30  error : 5443.872754502462\n",
      "Step40  error : 4722.521391669171\n",
      "Step50  error : 4236.239846654498\n",
      "Step60  error : 3868.6205396308574\n",
      "Step70  error : 3569.8451096285057\n",
      "Step80  error : 3313.9800108767076\n",
      "Step90  error : 3086.02030529994\n",
      "Step100  error : 2876.8545959365765\n",
      "Step110  error : 2680.8934435516126\n",
      "Step120  error : 2494.7910735853197\n",
      "Step130  error : 2316.682311827278\n",
      "Step140  error : 2145.6867894006064\n",
      "Step150  error : 1981.5638569516045\n",
      "Step160  error : 1824.4609770137456\n",
      "Step170  error : 1674.7269554771265\n",
      "Step180  error : 1532.7750881397728\n",
      "Step190  error : 1398.987314758191\n",
      "Step200  error : 1273.6526083524327\n",
      "Step210  error : 1156.9333101876537\n",
      "Step220  error : 1048.853209036127\n",
      "Step230  error : 949.3014403545119\n",
      "Step240  error : 858.0468909788351\n",
      "Step250  error : 774.7586549161642\n",
      "Step260  error : 699.0290457480907\n",
      "Step270  error : 630.396603202809\n",
      "Step280  error : 568.3673585517034\n",
      "Step290  error : 512.4333128865148\n",
      "Step300  error : 462.08762822586993\n",
      "Step310  error : 416.8364407999055\n",
      "Step320  error : 376.2074914435032\n",
      "Step330  error : 339.7559458700101\n",
      "Step340  error : 307.0678665645316\n",
      "Step350  error : 277.76181879958204\n",
      "Step360  error : 251.48906657766773\n",
      "Step370  error : 227.9327590041821\n",
      "Step380  error : 206.80643915737053\n",
      "Step390  error : 187.85213730648044\n",
      "Step400  error : 170.8382456445761\n",
      "Step410  error : 155.55731642366146\n",
      "Step420  error : 141.8238808151906\n",
      "Step430  error : 129.47235159509773\n",
      "Step440  error : 118.35504756654308\n",
      "Step450  error : 108.34035981168631\n",
      "Step460  error : 99.3110677242806\n",
      "Step460  error : 99.3110677242806\n",
      "学習終了\n"
     ]
    }
   ],
   "source": [
    "np.random.seed(seed=0)\n",
    "\n",
    "# 更新式の誤差\n",
    "def get_rating_error(r, p, q):\n",
    "    rating_error = r - np.dot(p, q)\n",
    "    return rating_error\n",
    "\n",
    "# 損失関数\n",
    "def get_error(R, P, Q, beta):\n",
    "    error = 0\n",
    "    for i in range(len(R)):\n",
    "        for j in range(len(R[i])):\n",
    "            if R[i][j] == 0:\n",
    "                continue\n",
    "            error += pow(get_rating_error(R[i][j], P[:,i], Q[:,j]), 2)\n",
    "    error += beta/2 * (np.linalg.norm(P) + np.linalg.norm(Q))\n",
    "    return error\n",
    "\n",
    "# R=近似したい行列、K=次元数\n",
    "def matrix_factorization(R, K, steps=1000, alpha=0.0005, beta=0.1, threshold=100):\n",
    "    P = np.random.rand(K, len(R))\n",
    "    Q = np.random.rand(K, len(R[0]))\n",
    "    for step in range(steps):\n",
    "        for i in range(len(R)):\n",
    "            for j in range(len(R[i])):\n",
    "                if R[i][j] == 0:\n",
    "                    continue\n",
    "                err = get_rating_error(R[i][j], P[:, i], Q[:, j])\n",
    "                for k in range(K):\n",
    "                    P[k][i] += alpha * (2 * err * Q[k][j])\n",
    "                    Q[k][j] += alpha * (2 * err * P[k][i])\n",
    "        error = get_error(R, P, Q, beta)\n",
    "        if step%10 == 0:\n",
    "            print('Step{}  error : {}'.format(step, error))\n",
    "        if error < threshold:\n",
    "            print('Step{}  error : {}'.format(step, error))\n",
    "            print('学習終了')\n",
    "            break\n",
    "    return P, Q\n",
    "\n",
    "P, Q = matrix_factorization(rate_normal, 10)"
   ]
  }
 ],
 "metadata": {
  "kernelspec": {
   "display_name": "Python 3",
   "language": "python",
   "name": "python3"
  },
  "language_info": {
   "codemirror_mode": {
    "name": "ipython",
    "version": 3
   },
   "file_extension": ".py",
   "mimetype": "text/x-python",
   "name": "python",
   "nbconvert_exporter": "python",
   "pygments_lexer": "ipython3",
   "version": "3.7.9"
  }
 },
 "nbformat": 4,
 "nbformat_minor": 2
}
