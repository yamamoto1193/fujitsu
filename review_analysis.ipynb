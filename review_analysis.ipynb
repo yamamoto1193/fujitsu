{
 "cells": [
  {
   "cell_type": "code",
   "execution_count": null,
   "metadata": {
    "slideshow": {
     "slide_type": "skip"
    }
   },
   "outputs": [],
   "source": [
    "# 入力文\n",
    "# 1.楽しかったです。\n",
    "# 2.とてもわかりやすくて良かったです。苦手な数学に自信がつきました。またお願いしたいです。"
   ]
  },
  {
   "cell_type": "markdown",
   "metadata": {
    "slideshow": {
     "slide_type": "slide"
    }
   },
   "source": [
    "## コード"
   ]
  },
  {
   "cell_type": "code",
   "execution_count": 6,
   "metadata": {
    "slideshow": {
     "slide_type": "-"
    }
   },
   "outputs": [],
   "source": [
    "import numpy as np\n",
    "import oseti\n",
    "\n",
    "def calc(star, review):\n",
    "    analyzer = oseti.Analyzer()\n",
    "    np = analyzer.count_polarity(review)\n",
    "    cnt = 0\n",
    "    for i in np:\n",
    "        cnt += i['positive']\n",
    "        cnt -= i['negative']\n",
    "    if cnt > 0:\n",
    "        temp = min(5, 6*cnt*len(review)/200-1)\n",
    "    elif cnt == 0:\n",
    "        return star\n",
    "    else:\n",
    "        temp = max(-1, cnt*len(review)/60)\n",
    "    score = round(star + temp, 2)\n",
    "    return score"
   ]
  },
  {
   "cell_type": "markdown",
   "metadata": {
    "slideshow": {
     "slide_type": "slide"
    }
   },
   "source": [
    "## 入力(5段階評価+レビュー)"
   ]
  },
  {
   "cell_type": "code",
   "execution_count": 11,
   "metadata": {
    "slideshow": {
     "slide_type": "-"
    }
   },
   "outputs": [
    {
     "name": "stdout",
     "output_type": "stream",
     "text": [
      "5\n",
      "とてもわかりやすくて良かったです。苦手な数学に自信がつきました。またお願いしたいです。\n"
     ]
    }
   ],
   "source": [
    "star = int(input())\n",
    "review = input().rstrip()"
   ]
  },
  {
   "cell_type": "markdown",
   "metadata": {
    "slideshow": {
     "slide_type": "slide"
    }
   },
   "source": [
    "## 出力(0~10の連続値)"
   ]
  },
  {
   "cell_type": "code",
   "execution_count": 12,
   "metadata": {
    "slideshow": {
     "slide_type": "-"
    }
   },
   "outputs": [
    {
     "name": "stdout",
     "output_type": "stream",
     "text": [
      "スコア : 6.58\n"
     ]
    }
   ],
   "source": [
    "score = calc(star, review)\n",
    "print('スコア :', score)"
   ]
  }
 ],
 "metadata": {
  "celltoolbar": "Slideshow",
  "kernelspec": {
   "display_name": "Python 3",
   "language": "python",
   "name": "python3"
  },
  "language_info": {
   "codemirror_mode": {
    "name": "ipython",
    "version": 3
   },
   "file_extension": ".py",
   "mimetype": "text/x-python",
   "name": "python",
   "nbconvert_exporter": "python",
   "pygments_lexer": "ipython3",
   "version": "3.7.9"
  }
 },
 "nbformat": 4,
 "nbformat_minor": 2
}
