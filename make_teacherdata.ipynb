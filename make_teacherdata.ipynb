{
 "cells": [
  {
   "cell_type": "code",
   "execution_count": 1,
   "id": "initial-driver",
   "metadata": {},
   "outputs": [],
   "source": [
    "import numpy as np\n",
    "import pandas as pd"
   ]
  },
  {
   "cell_type": "code",
   "execution_count": 7,
   "id": "broken-fifty",
   "metadata": {},
   "outputs": [],
   "source": [
    "np.random.seed(seed=0)\n",
    "\n",
    "teacher_data = []\n",
    "\n",
    "time = np.random.randint(3, 6, 1000)\n",
    "\n",
    "for i in range(1000):\n",
    "    start = np.random.randint(9, 17-time[i])\n",
    "    stop = start + time[i]\n",
    "    cost = np.random.randint(10, 21) * 100\n",
    "    teacher_data.append([start, stop, cost])"
   ]
  },
  {
   "cell_type": "code",
   "execution_count": 10,
   "id": "personalized-prisoner",
   "metadata": {},
   "outputs": [],
   "source": [
    "df = pd.DataFrame(teacher_data, index=list(range(1, 1001)), columns=['start', 'stop', 'cost'])\n",
    "df.to_csv('data/teacher_data.csv')"
   ]
  }
 ],
 "metadata": {
  "kernelspec": {
   "display_name": "Python 3",
   "language": "python",
   "name": "python3"
  },
  "language_info": {
   "codemirror_mode": {
    "name": "ipython",
    "version": 3
   },
   "file_extension": ".py",
   "mimetype": "text/x-python",
   "name": "python",
   "nbconvert_exporter": "python",
   "pygments_lexer": "ipython3",
   "version": "3.7.9"
  }
 },
 "nbformat": 4,
 "nbformat_minor": 5
}
